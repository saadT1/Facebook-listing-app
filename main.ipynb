{
 "cells": [
  {
   "cell_type": "code",
   "execution_count": 2,
   "metadata": {},
   "outputs": [
    {
     "name": "stdout",
     "output_type": "stream",
     "text": [
      "Error occurred while starting container test.\n",
      "docker: error during connect: Head \"http://%2F%2F.%2Fpipe%2FdockerDesktopLinuxEngine/_ping\": open //./pipe/dockerDesktopLinuxEngine: The system cannot find the file specified.\n",
      "See 'docker run --help'.\n",
      "\n"
     ]
    }
   ],
   "source": [
    "import subprocess\n",
    "\n",
    "# Define the container name and port\n",
    "container_name = \"test\"\n",
    "host_port = 32768\n",
    "\n",
    "# Docker command to run a single container with SE_NODE_MAX_SESSIONS set to 5\n",
    "docker_command = f\"docker run -d -p {host_port}:4444 --name {container_name} -e SE_NODE_MAX_SESSIONS=5 selenium/standalone-chrome:latest\"\n",
    "\n",
    "# Execute the command using subprocess\n",
    "try:\n",
    "    result = subprocess.run(docker_command, shell=True, check=True, stdout=subprocess.PIPE, stderr=subprocess.PIPE)\n",
    "    \n",
    "    # Construct the localhost URL\n",
    "    localhost_url = f\"http://localhost:{host_port}\"\n",
    "    \n",
    "    print(f\"Container {container_name} started on port {host_port} with SE_NODE_MAX_SESSIONS=5.\")\n",
    "    print(f\"Access it at: {localhost_url}\")\n",
    "    print(result.stdout.decode())  # Output from the command\n",
    "except subprocess.CalledProcessError as e:\n",
    "    print(f\"Error occurred while starting container {container_name}.\")\n",
    "    print(e.stderr.decode())  # Error message\n"
   ]
  },
  {
   "cell_type": "code",
   "execution_count": 7,
   "metadata": {},
   "outputs": [
    {
     "name": "stdout",
     "output_type": "stream",
     "text": [
      "2fb303e2663ca4af65a5a76fd957d91d4ced0cb2473383a422db74311cfa969b\n"
     ]
    }
   ],
   "source": [
    "import uuid\n",
    "unique_id = uuid.getnode()  # This gives the MAC address\n",
    "\n",
    "import hashlib\n",
    "def generate_license_key(device_id):\n",
    "    key = hashlib.sha256(device_id.encode()).hexdigest()\n",
    "    return key\n",
    "\n",
    "# Example usage\n",
    "device_id = str(uuid.getnode())\n",
    "license_key1 = generate_license_key(device_id)\n",
    "print(license_key1)\n"
   ]
  },
  {
   "cell_type": "code",
   "execution_count": 8,
   "metadata": {},
   "outputs": [
    {
     "name": "stdout",
     "output_type": "stream",
     "text": [
      "Generated License Key: 2fb303e2663ca4af65a5a76fd957d91d4ced0cb2473383a422db74311cfa969b\n"
     ]
    }
   ],
   "source": [
    "import uuid\n",
    "import hashlib\n",
    "\n",
    "def generate_license_key(device_id):\n",
    "    # Hash the device ID to generate a license key\n",
    "    license_key = hashlib.sha256(device_id.encode()).hexdigest()\n",
    "    return license_key\n",
    "\n",
    "# Example usage - run this on the server or when distributing the license\n",
    "device_id = str(uuid.getnode())  # Get unique device ID\n",
    "license_key = generate_license_key(device_id)\n",
    "print(f\"Generated License Key: {license_key}\")\n"
   ]
  },
  {
   "cell_type": "code",
   "execution_count": 10,
   "metadata": {},
   "outputs": [
    {
     "name": "stdout",
     "output_type": "stream",
     "text": [
      "Invalid license key. App cannot run.\n"
     ]
    }
   ],
   "source": [
    "def verify_license_key(input_key, device_id):\n",
    "    # Generate the license key for this device\n",
    "    expected_key = generate_license_key(device_id)\n",
    "    \n",
    "    # Compare the input key with the expected key\n",
    "    if input_key == expected_key:\n",
    "        return True\n",
    "    else:\n",
    "        return False\n",
    "\n",
    "# Example usage - in the app\n",
    "device_id = str(uuid.getnode())  # Get the current device's unique ID\n",
    "input_key = input(\"Enter your license key: \")  # Prompt the user to input the license key\n",
    "\n",
    "# Verify the license key\n",
    "if verify_license_key(input_key, device_id):\n",
    "    print(\"License key is valid. App is authorized to run.\")\n",
    "else:\n",
    "    print(\"Invalid license key. App cannot run.\")\n"
   ]
  },
  {
   "cell_type": "code",
   "execution_count": null,
   "metadata": {},
   "outputs": [],
   "source": []
  }
 ],
 "metadata": {
  "kernelspec": {
   "display_name": "Python 3",
   "language": "python",
   "name": "python3"
  },
  "language_info": {
   "codemirror_mode": {
    "name": "ipython",
    "version": 3
   },
   "file_extension": ".py",
   "mimetype": "text/x-python",
   "name": "python",
   "nbconvert_exporter": "python",
   "pygments_lexer": "ipython3",
   "version": "3.12.4"
  }
 },
 "nbformat": 4,
 "nbformat_minor": 2
}
