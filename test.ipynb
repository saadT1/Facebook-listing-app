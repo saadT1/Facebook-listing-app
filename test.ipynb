{
 "cells": [
  {
   "cell_type": "code",
   "execution_count": 2,
   "metadata": {},
   "outputs": [],
   "source": [
    "import json"
   ]
  },
  {
   "cell_type": "code",
   "execution_count": 3,
   "metadata": {},
   "outputs": [],
   "source": [
    "with open('ids.json') as f:\n",
    "    ids = json.load(f)"
   ]
  },
  {
   "cell_type": "code",
   "execution_count": 4,
   "metadata": {},
   "outputs": [
    {
     "data": {
      "text/plain": [
       "{'uks250379@gmail.com': {'password': 'Admin@21',\n",
       "  'location': 'Romford, United Kingdom'},\n",
       " '+923105985624': {'password': 'Admin@21',\n",
       "  'location': 'Northampton, Northamptonshire'},\n",
       " '+923129884938': {'password': 'Admin@21',\n",
       "  'location': 'Cheltenham, Gloucestershire'},\n",
       " '+923270954303': {'password': 'Admin@21', 'location': 'Thorne'},\n",
       " '+923185072018': {'password': 'Admin@21', 'location': 'Wakefield'},\n",
       " '+923259016190': {'password': 'Admin@21', 'location': 'Sheffield'},\n",
       " '+923334942786': {'password': 'Admin@55', 'location': 'Solihull'}}"
      ]
     },
     "execution_count": 4,
     "metadata": {},
     "output_type": "execute_result"
    }
   ],
   "source": [
    "id=ids['id']"
   ]
  },
  {
   "cell_type": "code",
   "execution_count": null,
   "metadata": {},
   "outputs": [],
   "source": []
  }
 ],
 "metadata": {
  "kernelspec": {
   "display_name": "Python 3",
   "language": "python",
   "name": "python3"
  },
  "language_info": {
   "codemirror_mode": {
    "name": "ipython",
    "version": 3
   },
   "file_extension": ".py",
   "mimetype": "text/x-python",
   "name": "python",
   "nbconvert_exporter": "python",
   "pygments_lexer": "ipython3",
   "version": "3.12.4"
  }
 },
 "nbformat": 4,
 "nbformat_minor": 2
}
