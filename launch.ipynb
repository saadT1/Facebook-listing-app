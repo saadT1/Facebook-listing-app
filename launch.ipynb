{
 "cells": [
  {
   "cell_type": "code",
   "execution_count": 1,
   "metadata": {},
   "outputs": [
    {
     "ename": "KeyboardInterrupt",
     "evalue": "",
     "output_type": "error",
     "traceback": [
      "\u001b[31m---------------------------------------------------------------------------\u001b[39m",
      "\u001b[31mKeyboardInterrupt\u001b[39m                         Traceback (most recent call last)",
      "\u001b[36mCell\u001b[39m\u001b[36m \u001b[39m\u001b[32mIn[1]\u001b[39m\u001b[32m, line 3\u001b[39m\n\u001b[32m      1\u001b[39m \u001b[38;5;28;01mfrom\u001b[39;00m\u001b[38;5;250m \u001b[39m\u001b[34;01mstreamlit_desktop_app\u001b[39;00m\u001b[38;5;250m \u001b[39m\u001b[38;5;28;01mimport\u001b[39;00m start_desktop_app\n\u001b[32m----> \u001b[39m\u001b[32m3\u001b[39m \u001b[43mstart_desktop_app\u001b[49m\u001b[43m(\u001b[49m\u001b[33;43m\"\u001b[39;49m\u001b[33;43mapp.py\u001b[39;49m\u001b[33;43m\"\u001b[39;49m\u001b[43m,\u001b[49m\u001b[43m \u001b[49m\u001b[43mtitle\u001b[49m\u001b[43m=\u001b[49m\u001b[33;43m\"\u001b[39;49m\u001b[33;43mMy Streamlit Desktop App\u001b[39;49m\u001b[33;43m\"\u001b[39;49m\u001b[43m)\u001b[49m\n",
      "\u001b[36mFile \u001b[39m\u001b[32md:\\Personal\\Realcode\\Facebook-listing-app\\env\\Lib\\site-packages\\streamlit_desktop_app\\core.py:105\u001b[39m, in \u001b[36mstart_desktop_app\u001b[39m\u001b[34m(script_path, title, width, height, options)\u001b[39m\n\u001b[32m    101\u001b[39m     \u001b[38;5;66;03m# Start pywebview with the Streamlit server URL\u001b[39;00m\n\u001b[32m    102\u001b[39m     webview.create_window(\n\u001b[32m    103\u001b[39m         title, \u001b[33mf\u001b[39m\u001b[33m\"\u001b[39m\u001b[33mhttp://localhost:\u001b[39m\u001b[38;5;132;01m{\u001b[39;00mport\u001b[38;5;132;01m}\u001b[39;00m\u001b[33m\"\u001b[39m, width=width, height=height\n\u001b[32m    104\u001b[39m     )\n\u001b[32m--> \u001b[39m\u001b[32m105\u001b[39m     \u001b[43mwebview\u001b[49m\u001b[43m.\u001b[49m\u001b[43mstart\u001b[49m\u001b[43m(\u001b[49m\u001b[43m)\u001b[49m\n\u001b[32m    106\u001b[39m \u001b[38;5;28;01mfinally\u001b[39;00m:\n\u001b[32m    107\u001b[39m     \u001b[38;5;66;03m# Ensure the Streamlit process is terminated\u001b[39;00m\n\u001b[32m    108\u001b[39m     streamlit_process.terminate()\n",
      "\u001b[36mFile \u001b[39m\u001b[32md:\\Personal\\Realcode\\Facebook-listing-app\\env\\Lib\\site-packages\\webview\\__init__.py:220\u001b[39m, in \u001b[36mstart\u001b[39m\u001b[34m(func, args, localization, gui, debug, http_server, http_port, user_agent, private_mode, storage_path, menu, server, server_args, ssl, icon)\u001b[39m\n\u001b[32m    218\u001b[39m \u001b[38;5;28;01mif\u001b[39;00m menu:\n\u001b[32m    219\u001b[39m     guilib.set_app_menu(menu)\n\u001b[32m--> \u001b[39m\u001b[32m220\u001b[39m \u001b[43mguilib\u001b[49m\u001b[43m.\u001b[49m\u001b[43mcreate_window\u001b[49m\u001b[43m(\u001b[49m\u001b[43mwindows\u001b[49m\u001b[43m[\u001b[49m\u001b[32;43m0\u001b[39;49m\u001b[43m]\u001b[49m\u001b[43m)\u001b[49m\n\u001b[32m    221\u001b[39m \u001b[38;5;66;03m# keyfile is deleted by the ServerAdapter right after wrap_socket()\u001b[39;00m\n\u001b[32m    222\u001b[39m \u001b[38;5;28;01mif\u001b[39;00m certfile:\n",
      "\u001b[36mFile \u001b[39m\u001b[32md:\\Personal\\Realcode\\Facebook-listing-app\\env\\Lib\\site-packages\\webview\\platforms\\winforms.py:686\u001b[39m, in \u001b[36mcreate_window\u001b[39m\u001b[34m(window)\u001b[39m\n\u001b[32m    684\u001b[39m     thread.SetApartmentState(ApartmentState.STA)\n\u001b[32m    685\u001b[39m     thread.Start()\n\u001b[32m--> \u001b[39m\u001b[32m686\u001b[39m     \u001b[43mthread\u001b[49m\u001b[43m.\u001b[49m\u001b[43mJoin\u001b[49m\u001b[43m(\u001b[49m\u001b[43m)\u001b[49m\n\u001b[32m    688\u001b[39m \u001b[38;5;28;01melse\u001b[39;00m:\n\u001b[32m    689\u001b[39m     _main_window_created.wait()\n",
      "\u001b[31mKeyboardInterrupt\u001b[39m: "
     ]
    }
   ],
   "source": [
    "from streamlit_desktop_app import start_desktop_app\n",
    "\n",
    "start_desktop_app(\"app.py\", title=\"My Streamlit Desktop App\")"
   ]
  },
  {
   "cell_type": "code",
   "execution_count": null,
   "metadata": {},
   "outputs": [],
   "source": []
  }
 ],
 "metadata": {
  "kernelspec": {
   "display_name": "env",
   "language": "python",
   "name": "python3"
  },
  "language_info": {
   "codemirror_mode": {
    "name": "ipython",
    "version": 3
   },
   "file_extension": ".py",
   "mimetype": "text/x-python",
   "name": "python",
   "nbconvert_exporter": "python",
   "pygments_lexer": "ipython3",
   "version": "3.13.2"
  }
 },
 "nbformat": 4,
 "nbformat_minor": 2
}
